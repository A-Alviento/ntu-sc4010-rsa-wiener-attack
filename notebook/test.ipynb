{
 "cells": [
  {
   "cell_type": "code",
   "execution_count": 1,
   "metadata": {},
   "outputs": [],
   "source": [
    "import os\n",
    "os.chdir('../utils')\n",
    "from common_utils import *\n",
    "import pandas as pd"
   ]
  },
  {
   "cell_type": "markdown",
   "metadata": {},
   "source": [
    "#### Rabin-Miller Test"
   ]
  },
  {
   "cell_type": "code",
   "execution_count": 2,
   "metadata": {},
   "outputs": [],
   "source": [
    "primes = pd.read_csv('primes.csv', header=None, names=['prime'])\n",
    "primes_list = primes['prime'].tolist()"
   ]
  },
  {
   "cell_type": "code",
   "execution_count": 3,
   "metadata": {},
   "outputs": [],
   "source": [
    "# get 1000 random primes\n",
    "sample_primes = primes.sample(1000)"
   ]
  },
  {
   "cell_type": "code",
   "execution_count": 4,
   "metadata": {},
   "outputs": [
    {
     "name": "stdout",
     "output_type": "stream",
     "text": [
      "All primes passed the test\n"
     ]
    }
   ],
   "source": [
    "# iterate over the sample primes\n",
    "for index, row in sample_primes.iterrows():\n",
    "    prime_test = int(row['prime'])\n",
    "    if not miller_rabin(prime_test, 15)[0]:\n",
    "        print('Failed on prime: ', prime_test)\n",
    "        break\n",
    "print('All primes passed the test')"
   ]
  },
  {
   "cell_type": "code",
   "execution_count": 10,
   "metadata": {},
   "outputs": [],
   "source": [
    "composites = []\n",
    "\n",
    "# generate 1000 composites\n",
    "i = 18\n",
    "while len(composites) < 1000:\n",
    "    if i in primes_list:\n",
    "        i += 1\n",
    "        continue\n",
    "    composites.append(i)\n",
    "    i += 1"
   ]
  },
  {
   "cell_type": "code",
   "execution_count": 11,
   "metadata": {},
   "outputs": [
    {
     "name": "stdout",
     "output_type": "stream",
     "text": [
      "All composites passed the test\n"
     ]
    }
   ],
   "source": [
    "for i in composites:\n",
    "    if miller_rabin(i, 15)[0]:\n",
    "        print('Failed on composite: ', i)\n",
    "        break\n",
    "print('All composites passed the test')"
   ]
  },
  {
   "cell_type": "markdown",
   "metadata": {},
   "source": [
    "#### Prime Generator Test"
   ]
  },
  {
   "cell_type": "code",
   "execution_count": 2,
   "metadata": {},
   "outputs": [
    {
     "name": "stdout",
     "output_type": "stream",
     "text": [
      "345355573652144906108604275359037881386629485302926672377557278203947556649492219562514617527824879594239329604700408455256883165620676440297429192895754728971087586334028089683366560190537313836609480383967842481421218611866371443278402510550576694582873380084204076158959943982719115670122054145376081451187\n"
     ]
    }
   ],
   "source": [
    "p = gen_prime(1024, 15) # 1024 is bits\n",
    "print(p)"
   ]
  },
  {
   "cell_type": "code",
   "execution_count": 15,
   "metadata": {},
   "outputs": [
    {
     "name": "stdout",
     "output_type": "stream",
     "text": [
      "29\n"
     ]
    }
   ],
   "source": [
    "p = gen_prime_range(24, 32, 15) # 24 and 32 are not bits, but the range of numbers\n",
    "print(p)"
   ]
  },
  {
   "cell_type": "markdown",
   "metadata": {},
   "source": [
    "### Vulnerable Key Generator Test"
   ]
  },
  {
   "cell_type": "code",
   "execution_count": 2,
   "metadata": {},
   "outputs": [],
   "source": [
    "e, n, d = gen_vulnerable_keys(nbits=1024, s=15)"
   ]
  },
  {
   "cell_type": "code",
   "execution_count": 7,
   "metadata": {},
   "outputs": [
    {
     "name": "stdout",
     "output_type": "stream",
     "text": [
      "763627944173398785309917453137831355677577467007840465738750014991638688235539098692481328006090312318061846638522915295748908930667452999467117379458039144832165534657728882655941183428494494386150190423935254665408900809662775984063123274528779647686036248849900316808426790976357433345016205307068336188505\n",
      "278313180151616012790003279305900492385255802420547814910333694930214361581988064130138745725579121765351270923437607234692211570557228157818659051630475886747415045148983582715524285870635946826770851444679301587858618773408032499349064758252423379436018894278739335792468498065531526937106366522955640606017\n",
      "50499534812228469589834096535238868025060807218112099962008446577032389235009\n"
     ]
    }
   ],
   "source": [
    "print(n)\n",
    "print(e)\n",
    "print(d)    \n"
   ]
  }
 ],
 "metadata": {
  "kernelspec": {
   "display_name": "sc4002-nlp",
   "language": "python",
   "name": "python3"
  },
  "language_info": {
   "codemirror_mode": {
    "name": "ipython",
    "version": 3
   },
   "file_extension": ".py",
   "mimetype": "text/x-python",
   "name": "python",
   "nbconvert_exporter": "python",
   "pygments_lexer": "ipython3",
   "version": "3.8.17"
  },
  "orig_nbformat": 4
 },
 "nbformat": 4,
 "nbformat_minor": 2
}
