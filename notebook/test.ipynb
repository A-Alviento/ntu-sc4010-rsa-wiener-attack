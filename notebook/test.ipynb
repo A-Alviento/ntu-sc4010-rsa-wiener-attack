{
 "cells": [
  {
   "cell_type": "code",
   "execution_count": 1,
   "metadata": {},
   "outputs": [],
   "source": [
    "import os\n",
    "os.chdir('../utils')\n",
    "from common_utils import *\n",
    "import pandas as pd"
   ]
  },
  {
   "cell_type": "code",
   "execution_count": 2,
   "metadata": {},
   "outputs": [],
   "source": [
    "primes = pd.read_csv('primes.csv', header=None, names=['prime'])\n",
    "primes_list = primes['prime'].tolist()"
   ]
  },
  {
   "cell_type": "code",
   "execution_count": 3,
   "metadata": {},
   "outputs": [],
   "source": [
    "# get 1000 random primes\n",
    "sample_primes = primes.sample(1000)"
   ]
  },
  {
   "cell_type": "code",
   "execution_count": 4,
   "metadata": {},
   "outputs": [
    {
     "name": "stdout",
     "output_type": "stream",
     "text": [
      "All primes passed the test\n"
     ]
    }
   ],
   "source": [
    "# iterate over the sample primes\n",
    "for index, row in sample_primes.iterrows():\n",
    "    prime_test = int(row['prime'])\n",
    "    if not miller_rabin(prime_test, 15)[0]:\n",
    "        print('Failed on prime: ', prime_test)\n",
    "        break\n",
    "print('All primes passed the test')"
   ]
  },
  {
   "cell_type": "code",
   "execution_count": 10,
   "metadata": {},
   "outputs": [],
   "source": [
    "composites = []\n",
    "\n",
    "# generate 1000 composites\n",
    "i = 18\n",
    "while len(composites) < 1000:\n",
    "    if i in primes_list:\n",
    "        i += 1\n",
    "        continue\n",
    "    composites.append(i)\n",
    "    i += 1"
   ]
  },
  {
   "cell_type": "code",
   "execution_count": 11,
   "metadata": {},
   "outputs": [
    {
     "name": "stdout",
     "output_type": "stream",
     "text": [
      "All composites passed the test\n"
     ]
    }
   ],
   "source": [
    "for i in composites:\n",
    "    if miller_rabin(i, 15)[0]:\n",
    "        print('Failed on composite: ', i)\n",
    "        break\n",
    "print('All composites passed the test')"
   ]
  }
 ],
 "metadata": {
  "kernelspec": {
   "display_name": "sc4002-nlp",
   "language": "python",
   "name": "python3"
  },
  "language_info": {
   "codemirror_mode": {
    "name": "ipython",
    "version": 3
   },
   "file_extension": ".py",
   "mimetype": "text/x-python",
   "name": "python",
   "nbconvert_exporter": "python",
   "pygments_lexer": "ipython3",
   "version": "3.8.17"
  },
  "orig_nbformat": 4
 },
 "nbformat": 4,
 "nbformat_minor": 2
}
