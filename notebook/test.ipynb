{
 "cells": [
  {
   "cell_type": "code",
   "execution_count": 1,
   "metadata": {},
   "outputs": [],
   "source": [
    "import os\n",
    "os.chdir('../utils')\n",
    "from common_utils import *\n",
    "from rsa import *\n",
    "import pandas as pd"
   ]
  },
  {
   "cell_type": "markdown",
   "metadata": {},
   "source": [
    "#### Rabin-Miller Test"
   ]
  },
  {
   "cell_type": "code",
   "execution_count": 6,
   "metadata": {},
   "outputs": [],
   "source": [
    "primes = pd.read_csv('primes.csv', header=None, names=['prime'])\n",
    "prime_list = primes['prime'].tolist()\n",
    "# get 1000 random primes\n",
    "sample_primes = primes.sample(10000)"
   ]
  },
  {
   "cell_type": "code",
   "execution_count": 7,
   "metadata": {},
   "outputs": [
    {
     "name": "stdout",
     "output_type": "stream",
     "text": [
      "All primes passed the test\n"
     ]
    }
   ],
   "source": [
    "# iterate over the sample primes\n",
    "for index, row in sample_primes.iterrows():\n",
    "    prime_test = int(row['prime'])\n",
    "    if not miller_rabin(prime_test, 15):\n",
    "        print('Failed on prime: ', prime_test)\n",
    "        break\n",
    "print('All primes passed the test')"
   ]
  },
  {
   "cell_type": "code",
   "execution_count": 9,
   "metadata": {},
   "outputs": [],
   "source": [
    "composites = []\n",
    "\n",
    "# generate 1000 composites\n",
    "i = 18\n",
    "while len(composites) < 1000:\n",
    "    if i in prime_list:\n",
    "        i += 1\n",
    "        continue\n",
    "    composites.append(i)\n",
    "    i += 1"
   ]
  },
  {
   "cell_type": "code",
   "execution_count": 10,
   "metadata": {},
   "outputs": [
    {
     "name": "stdout",
     "output_type": "stream",
     "text": [
      "All composites passed the test\n"
     ]
    }
   ],
   "source": [
    "for i in composites:\n",
    "    if miller_rabin(i, 15)[0]:\n",
    "        print('Failed on composite: ', i)\n",
    "        break\n",
    "print('All composites passed the test')"
   ]
  },
  {
   "cell_type": "markdown",
   "metadata": {},
   "source": [
    "#### Prime Generator Test"
   ]
  },
  {
   "cell_type": "code",
   "execution_count": 12,
   "metadata": {},
   "outputs": [
    {
     "name": "stdout",
     "output_type": "stream",
     "text": [
      "223851631610285018348631623282153293951091480257184522407417167991195422045811935202639683488923215254060857549414833049496911974528844683322824582205772133557387796650968198635360967604344225694960679721903396661165852725257374649542632356920940048255128981156849115443039058705159141409430418619394572205191\n"
     ]
    }
   ],
   "source": [
    "p = gen_prime(1024, 15) # 1024 is bits\n",
    "print(p)"
   ]
  },
  {
   "cell_type": "code",
   "execution_count": 19,
   "metadata": {},
   "outputs": [
    {
     "name": "stdout",
     "output_type": "stream",
     "text": [
      "29\n"
     ]
    }
   ],
   "source": [
    "p = gen_prime_range(24, 32, 15) # 24 and 32 are not bits, but the range of numbers\n",
    "print(p)"
   ]
  },
  {
   "cell_type": "markdown",
   "metadata": {},
   "source": [
    "#### Vulnerable Key Generator Test"
   ]
  },
  {
   "cell_type": "code",
   "execution_count": 11,
   "metadata": {},
   "outputs": [],
   "source": [
    "e, n, d, phi, p, q = gen_vulnerable_keys(nbits=1024, s=15)"
   ]
  },
  {
   "cell_type": "code",
   "execution_count": 12,
   "metadata": {},
   "outputs": [
    {
     "name": "stdout",
     "output_type": "stream",
     "text": [
      "731461097178306812144266922184339668058148325695542347184826567770946315844347912841299867808981800226096481096436993281030979746694253796076268432140266422812259932111974425360731045280990762036651318436381823678068395976909639079928401285761102455181284219236104827486380057882848642700540733098913695223957\n",
      "158028985100711953797090038671899563412958968272587144741566524715581640717690124901903250963359420136923830603405290395923782425611172661973383976899034372416453625327031070155949777205749547283230858132813932699307175962373348215095219221012017783292816949285927972454260896288531028189103962767184415368451\n",
      "55386319608426749298019273018709822078461655891082457657682095995876951601951\n"
     ]
    }
   ],
   "source": [
    "print(n)\n",
    "print(e)\n",
    "print(d)    "
   ]
  },
  {
   "cell_type": "code",
   "execution_count": 13,
   "metadata": {},
   "outputs": [
    {
     "name": "stdout",
     "output_type": "stream",
     "text": [
      "1\n"
     ]
    }
   ],
   "source": [
    "# check ed = 1 mod phi\n",
    "print((e*d) % phi)"
   ]
  },
  {
   "cell_type": "markdown",
   "metadata": {},
   "source": [
    "#### RSA Test"
   ]
  },
  {
   "cell_type": "code",
   "execution_count": 14,
   "metadata": {},
   "outputs": [
    {
     "name": "stdout",
     "output_type": "stream",
     "text": [
      "403253439198194600926499197706056306142304595927576332635612605589193400850240584386200591943012199515257007524523587683758439422361683455979932299006062878550084586407163353431941916896479278829587945778553957478062115907442513235329201966546380033353414027347127051658936491632674215325743943344660225441659 745705436667553985693536706492981357626183156999283149442670002181381993409049134342927368194768854328309707475358653532972023870099934553352419296729900622059031840091526266692183512926269609428596329741740631956603847612962657154561893371562924521428902124975704838818284958608544500819205240963767340143428 658149200551296852625065288308549859183205240017913840404097021605385665511597303571932428549626826268932247617167789073873547199275029964898580312470568589262505860147593120064709287451498192988874126141188950432585794973282246927959306260918749368202089006187100171536671765471784853603464739391770037595431 787680490105014212942322447124763224110060963822220886118677955381358116014672271208272713044194012468653398980772703595305636949797820473567044855854011303092631770104406605408392919656317296617387625836979213508910409396140745334189550290200264142612449515137901175726075810712382284545606689668740569124416 465797663050084678689272433276212527922094169439980787310068916683803039300733654053075804394580211323714605287389947915059828622299289008689260797220102464886987848150000693412975863706745926255750213049330217227298874469160416950957573395279685798762529785757733424832887056697584379026032951854572035252070 462312099195863014143429176686150013953409602950958153996633791194307093722871321136231659409677544729996377722518575844429779551597565252060955471142338142845624261370383032788647846729630177557972970321922679556451803418682440295727880063857065951230211850960463304663523873297973099460794159362808812185333 571570176512326141491499526903236537205868088772465666538155346249925585241553103766124131470487527806865300914572796688408600012892053512928938003271685429387929175687075719956809123542640764977576112030569207476514211213695607929004365832699714870850368629886627614255861104079492445104537647148053479064054\n"
     ]
    }
   ],
   "source": [
    "e, n, d, _, _, _ = gen_vulnerable_keys(nbits=1024, s=15)\n",
    "message = \"Hello, world!\"\n",
    "encrypted_message = encrypt(message, n, e)\n",
    "print(encrypted_message)"
   ]
  },
  {
   "cell_type": "code",
   "execution_count": 15,
   "metadata": {},
   "outputs": [
    {
     "name": "stdout",
     "output_type": "stream",
     "text": [
      "Hello, world\u0000!\n"
     ]
    }
   ],
   "source": [
    "decrypted_message = decrypt(encrypted_message, n, d)\n",
    "print(decrypted_message)"
   ]
  }
 ],
 "metadata": {
  "kernelspec": {
   "display_name": "sc4002-nlp",
   "language": "python",
   "name": "python3"
  },
  "language_info": {
   "codemirror_mode": {
    "name": "ipython",
    "version": 3
   },
   "file_extension": ".py",
   "mimetype": "text/x-python",
   "name": "python",
   "nbconvert_exporter": "python",
   "pygments_lexer": "ipython3",
   "version": "3.8.17"
  },
  "orig_nbformat": 4
 },
 "nbformat": 4,
 "nbformat_minor": 2
}
